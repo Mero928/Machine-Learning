{
 "cells": [
  {
   "cell_type": "code",
   "execution_count": 1,
   "metadata": {},
   "outputs": [
    {
     "ename": "ModuleNotFoundError",
     "evalue": "No module named 'matplotlib'",
     "output_type": "error",
     "traceback": [
      "\u001b[1;31m---------------------------------------------------------------------------\u001b[0m",
      "\u001b[1;31mModuleNotFoundError\u001b[0m                       Traceback (most recent call last)",
      "\u001b[1;32m<ipython-input-1-679acc4d1206>\u001b[0m in \u001b[0;36m<module>\u001b[1;34m\u001b[0m\n\u001b[0;32m      3\u001b[0m \u001b[1;32mimport\u001b[0m \u001b[0mnumpy\u001b[0m \u001b[1;32mas\u001b[0m \u001b[0mnp\u001b[0m\u001b[1;33m\u001b[0m\u001b[1;33m\u001b[0m\u001b[0m\n\u001b[0;32m      4\u001b[0m \u001b[1;31m#Data visualisation libraries\u001b[0m\u001b[1;33m\u001b[0m\u001b[1;33m\u001b[0m\u001b[1;33m\u001b[0m\u001b[0m\n\u001b[1;32m----> 5\u001b[1;33m \u001b[1;32mimport\u001b[0m \u001b[0mmatplotlib\u001b[0m\u001b[1;33m.\u001b[0m\u001b[0mpyplot\u001b[0m \u001b[1;32mas\u001b[0m \u001b[0mplt\u001b[0m\u001b[1;33m\u001b[0m\u001b[1;33m\u001b[0m\u001b[0m\n\u001b[0m\u001b[0;32m      6\u001b[0m \u001b[1;32mimport\u001b[0m \u001b[0mseaborn\u001b[0m \u001b[1;32mas\u001b[0m \u001b[0msns\u001b[0m\u001b[1;33m\u001b[0m\u001b[1;33m\u001b[0m\u001b[0m\n\u001b[0;32m      7\u001b[0m \u001b[1;33m\u001b[0m\u001b[0m\n",
      "\u001b[1;31mModuleNotFoundError\u001b[0m: No module named 'matplotlib'"
     ]
    }
   ],
   "source": [
    "# import nedded libraries\n",
    "import pandas as pd\n",
    "import numpy as np\n",
    "#Data visualisation libraries \n",
    "import matplotlib.pyplot as plt\n",
    "import seaborn as sns\n",
    "\n",
    "from IPython.display import display\n",
    "from sklearn.model_selection import train_test_split,learning_curve\n",
    "from sklearn.linear_model import LinearRegression\n",
    "from sklearn.metrics import mean_squared_error\n",
    "%matplotlib inline"
   ]
  },
  {
   "cell_type": "code",
   "metadata": {},
   "outputs": [],
   "source": [
    "# data describtion\n",
    "df = pd.read_csv(r'C:\\Users\\Amr.Abdelfattah\\machine-learning-course\\ALT1088.csv')\n",
    "#df.drop(0, axis=0, inplace=True)\n",
    "display(df.head())\n",
    "display(df.info())\n",
    "display(df.describe())\n",
    "display(df.columns)"
   ]
  },
  {
   "cell_type": "code",
   "metadata": {},
   "outputs": [],
   "source": [
    "sns.distplot(df['VCL_GEO_QEPP'])\n",
    "sns.distplot(df['PHIT_QEPP'])\n"
   ]
  },
  {
   "cell_type": "code",
   "metadata": {},
   "outputs": [],
   "source": [
    "fig, ax = plt.subplots(figsize=(12,8))\n",
    "sns.heatmap(df.corr(),annot=True,ax=ax,linewidths=0.1)"
   ]
  },
  {
   "cell_type": "code",
   "metadata": {},
   "outputs": [],
   "source": [
    "df.hist(bins=50, figsize=(20,15))\n",
    "plt.show()"
   ]
  },
  {
   "cell_type": "code",
   "metadata": {},
   "outputs": [],
   "source": [
    "df_new = df.drop(columns = ['wellName', 'datasetName', 'RXOZ','TDEP','SLOANI', 'HCGR', 'DTSH_SLOW', 'DTSH_FAST',\n",
    "                            'FWID_DF','AT60', 'AT90','PEFZ','PIGE_QEPP','MINXENE_OVERALL', 'GR_EDTC','DTST_STM'],axis=1)\n",
    "df_new"
   ]
  },
  {
   "cell_type": "code",
   "metadata": {},
   "outputs": [],
   "source": [
    "df_new.hist(bins=50, figsize=(20,15))\n",
    "plt.show()"
   ]
  },
  {
   "cell_type": "code",
   "metadata": {},
   "outputs": [],
   "source": [
    "fig, ax = plt.subplots(figsize=(12,8))\n",
    "sns.heatmap(df_new.corr(),annot=True,ax=ax,linewidths=0.1)"
   ]
  },
  {
   "cell_type": "code",
   "metadata": {},
   "outputs": [],
   "source": [
    "df_new.corr()"
   ]
  },
  {
   "cell_type": "code",
   "metadata": {},
   "outputs": [],
   "source": [
    "df_new.replace(-9999.000000, np.nan, inplace=True)\n",
    "display(df_new.isna().sum())\n",
    "df_new.dropna(inplace=True)\n",
    "df_new"
   ]
  },
  {
   "cell_type": "code",
   "metadata": {},
   "outputs": [],
   "source": [
    "df_new.hist(bins=50, figsize=(20,15))\n",
    "plt.show()"
   ]
  },
  {
   "cell_type": "code",
   "metadata": {},
   "outputs": [],
   "source": [
    "fig, ax = plt.subplots(figsize=(12,8))\n",
    "sns.heatmap(df_new.corr(),annot=True,ax=ax,linewidths=0.1)"
   ]
  },
  {
   "cell_type": "code",
   "metadata": {
    "scrolled": false
   },
   "outputs": [],
   "source": [
    "df_new = df_new.drop(columns = ['AT20','AT30'],axis=1)\n",
    "fig, ax = plt.subplots(figsize=(12,8))\n",
    "sns.heatmap(df_new.corr(),annot=True,ax=ax,linewidths=0.1)"
   ]
  },
  {
   "cell_type": "code",
   "metadata": {},
   "outputs": [],
   "source": [
    "df_new\n"
   ]
  },
  {
   "cell_type": "code",
   "metadata": {},
   "outputs": [],
   "source": [
    "# feature scaling and model training\n",
    "from sklearn import preprocessing\n",
    "from sklearn.linear_model import LinearRegression\n",
    "from sklearn.model_selection import cross_val_score,train_test_split\n",
    "min_max_scaler = preprocessing.MinMaxScaler()\n",
    "X = df_new.loc[:,df_new.columns!=' \tFracture Density'] # features\n",
    "Y = df_new['Fracture Density'] # label\n",
    "X = min_max_scaler.fit_transform(X)\n",
    "linear_reg = LinearRegression()\n",
    "xtrain,xtest,ytrain,ytest=train_test_split(X,Y,test_size=0.2)\n",
    "linear_reg.fit(xtrain,ytrain)\n",
    "preds=linear_reg.predict(xtest)\n",
    "print('model rmse = ',np.mean((preds-ytest)**2))"
   ]
  },
  {
   "cell_type": "code",
   "metadata": {},
   "outputs": [],
   "source": [
    "# test model with cross validation\n",
    "# visualize rmse scores\n",
    "import plotly.graph_objects as go\n",
    "scores = cross_val_score(linear_reg, X , Y, scoring=\"neg_mean_squared_error\", cv=10)\n",
    "rmse_scores = -scores\n",
    "fig = go.Figure(\n",
    "    data=[go.Bar(x=[i for i in range(10)],y=list(rmse_scores)[:10])],\n",
    "    layout_title_text=\"cv versus model error\")\n",
    "fig.show()"
   ]
  },
  {
   "cell_type": "code",
   "metadata": {},
   "outputs": [],
   "source": [
    "lm = LinearRegression()\n",
    "train_sizes, train_scores, test_scores = learning_curve(estimator=lm,\n",
    "                                                        X=xtrain,\n",
    "                                                        y=ytrain,\n",
    "                                                        scoring = 'neg_mean_squared_error',\n",
    "                                                       cv=10)\n",
    "lm.fit(xtrain,ytrain)"
   ]
  },
  {
   "cell_type": "code",
   "metadata": {},
   "outputs": [],
   "source": [
    "predictions = lm.predict(xtest)\n",
    "error=np.sqrt(mean_squared_error(ytest,predictions)) # rmse\n",
    "print(\"RMSE : \",error)"
   ]
  },
  {
   "cell_type": "code",
   "metadata": {},
   "outputs": [],
   "source": [
    "print(\"intercept : \",lm.intercept_)\n",
    "for idx, col_name in enumerate(xtrain.columns):\n",
    "    print(\"The coefficient for {} is {}\".format(col_name, lm.coef_[idx]))"
   ]
  },
  {
   "cell_type": "code",
   "metadata": {},
   "outputs": [],
   "source": [
    "train_mean = -np.mean(train_scores, axis=1)\n",
    "train_std = np.std(train_scores, axis=1)\n",
    "\n",
    "# Create means and standard deviations of test set scores\n",
    "test_mean = -np.mean(test_scores, axis=1)\n",
    "test_std = np.std(test_scores, axis=1)\n",
    "\n",
    "# Draw lines\n",
    "plt.plot(train_sizes, train_mean, '--', color=\"#111111\",  label=\"Training score\")\n",
    "plt.plot(train_sizes, test_mean, color=\"#111111\", label=\"Cross-validation score\")\n",
    "\n",
    "# Draw bands\n",
    "plt.fill_between(train_sizes, train_mean - train_std, train_mean + train_std, color=\"#DDDDDD\")\n",
    "plt.fill_between(train_sizes, test_mean - test_std, test_mean + test_std, color=\"#DDDDDD\")\n",
    "\n",
    "# Create plot\n",
    "plt.title(\"Learning Curve\")\n",
    "plt.xlabel(\"Training Set Size\"), plt.ylabel(\"Accuracy Score\"), plt.legend(loc=\"best\")\n",
    "plt.tight_layout()\n",
    "plt.show()"
   ]
  },
  {
   "cell_type": "code",
   "metadata": {},
   "outputs": [],
   "source": [
    "# check model fitted lines against different features\n",
    "plt.figure(figsize=(10,6))\n",
    "\n",
    "plt.subplot(2, 2, 1)\n",
    "plt.scatter(df['DTCO_Spline'],df['Fracture Density'])\n",
    "plt.plot(df['DTCO_Spline'],'r')\n",
    "plt.xlabel('DTCO_Spline')\n",
    "plt.ylabel('Fracture Density')\n",
    "\n",
    "plt.subplot(2, 2, 2)\n",
    "plt.scatter(df['AT10'],df['Fracture Density'])\n",
    "plt.plot(df['AT10'],'r')\n",
    "plt.xlabel('AT10')\n",
    "plt.ylabel('Fracture Density')\n",
    "\n",
    "plt.subplot(2, 2, 3)\n",
    "plt.scatter(df['PHIT_QEPP'],df['Fracture Density'])\n",
    "plt.plot(df['PHIT_QEPP'],'r')\n",
    "plt.xlabel('PHIT_QEPP')\n",
    "plt.ylabel('Fracture Density')\n",
    "\n",
    "plt.show()"
   ]
  },
  {
   "cell_type": "code",
   "metadata": {},
   "outputs": [],
   "source": []
  }
 ],
 "metadata": {
  "kernelspec": {
   "display_name": "Python 3",
   "language": "python",
   "name": "python3"
  },
  "language_info": {
   "codemirror_mode": {
    "name": "ipython",
    "version": 3
   },
   "file_extension": ".py",
   "mimetype": "text/x-python",
   "name": "python",
   "nbconvert_exporter": "python",
   "pygments_lexer": "ipython3",
   "version": "3.7.4"
  }
 },
 "nbformat": 4,
 "nbformat_minor": 2
}