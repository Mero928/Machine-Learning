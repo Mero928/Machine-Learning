{
  "nbformat": 4,
  "nbformat_minor": 0,
  "metadata": {
    "colab": {
      "name": "Porosity from seismic.ipynb",
      "provenance": [],
      "collapsed_sections": [],
      "mount_file_id": "1H8RZDysy_J_x0TrDNRrKMUJtUO-28eyE",
      "authorship_tag": "ABX9TyNC9i3GuntNDAASO2gZZIEn",
      "include_colab_link": true
    },
    "kernelspec": {
      "name": "python3",
      "display_name": "Python 3"
    }
  },
  "cells": [
    {
      "cell_type": "markdown",
      "metadata": {
        "id": "view-in-github",
        "colab_type": "text"
      },
      "source": [
        "<a href=\"https://colab.research.google.com/github/Mero928/Machine-Learning/blob/master/Porosity_from_seismic.ipynb\" target=\"_parent\"><img src=\"https://colab.research.google.com/assets/colab-badge.svg\" alt=\"Open In Colab\"/></a>"
      ]
    },
    {
      "cell_type": "markdown",
      "metadata": {
        "id": "C-quP-ePFkk2",
        "colab_type": "text"
      },
      "source": [
        "# Porosity prediction using Python and Random forest "
      ]
    }
  ]
}