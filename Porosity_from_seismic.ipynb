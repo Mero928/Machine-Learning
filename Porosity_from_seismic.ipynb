{
  "nbformat": 4,
  "nbformat_minor": 0,
  "metadata": {
    "colab": {
      "name": "Porosity from seismic.ipynb",
      "provenance": [],
      "collapsed_sections": [],
      "authorship_tag": "ABX9TyOySuQ7nShIDmXKuyLlBvNK",
      "include_colab_link": true
    },
    "kernelspec": {
      "name": "python3",
      "display_name": "Python 3"
    }
  },
  "cells": [
    {
      "cell_type": "markdown",
      "metadata": {
        "id": "view-in-github",
        "colab_type": "text"
      },
      "source": [
        "<a href=\"https://colab.research.google.com/github/Mero928/Machine-Learning/blob/master/Porosity_from_seismic.ipynb\" target=\"_parent\"><img src=\"https://colab.research.google.com/assets/colab-badge.svg\" alt=\"Open In Colab\"/></a>"
      ]
    },
    {
      "cell_type": "markdown",
      "metadata": {
        "id": "C-quP-ePFkk2",
        "colab_type": "text"
      },
      "source": [
        "# Porosity prediction using Python and Linear Regression "
      ]
    },
    {
      "cell_type": "code",
      "metadata": {
        "id": "VFvEC-_cqfc0",
        "colab_type": "code",
        "colab": {
          "base_uri": "https://localhost:8080/",
          "height": 35
        },
        "outputId": "beaf3acd-d037-48ce-d36e-b775ee89753b"
      },
      "source": [
        "#@title Import relevant modules\n",
        "import numpy as np\n",
        "import pandas as pd\n",
        "import tensorflow as tf\n",
        "from tensorflow.keras import layers\n",
        "from matplotlib import pyplot as plt\n",
        "import seaborn as sns\n",
        "\n",
        "from sklearn.model_selection import train_test_split,learning_curve\n",
        "from sklearn.linear_model import LinearRegression\n",
        "from sklearn.metrics import mean_squared_error\n",
        "\n",
        "%tensorflow_version 2.x\n",
        "from __future__ import absolute_import, division, print_function, unicode_literals\n",
        "\n",
        "# The following lines adjust the granularity of reporting. \n",
        "pd.options.display.max_rows = 10\n",
        "pd.options.display.float_format = \"{:.1f}\".format\n",
        "\n",
        "print(\"Imported modules.\")"
      ],
      "execution_count": null,
      "outputs": [
        {
          "output_type": "stream",
          "text": [
            "Imported modules.\n"
          ],
          "name": "stdout"
        }
      ]
    },
    {
      "cell_type": "code",
      "metadata": {
        "id": "WniZvdHFLcxn",
        "colab_type": "code",
        "colab": {}
      },
      "source": [
        "#@title Import dataset\n",
        "df = pd.read_csv(\"/Data_Edit.csv\")"
      ],
      "execution_count": null,
      "outputs": []
    },
    {
      "cell_type": "code",
      "metadata": {
        "id": "e-88ijssi73N",
        "colab_type": "code",
        "colab": {
          "base_uri": "https://localhost:8080/",
          "height": 206
        },
        "outputId": "d365f952-a91e-4d6a-974f-fbc431767ec1"
      },
      "source": [
        "df.tail()"
      ],
      "execution_count": null,
      "outputs": [
        {
          "output_type": "execute_result",
          "data": {
            "text/html": [
              "<div>\n",
              "<style scoped>\n",
              "    .dataframe tbody tr th:only-of-type {\n",
              "        vertical-align: middle;\n",
              "    }\n",
              "\n",
              "    .dataframe tbody tr th {\n",
              "        vertical-align: top;\n",
              "    }\n",
              "\n",
              "    .dataframe thead th {\n",
              "        text-align: right;\n",
              "    }\n",
              "</style>\n",
              "<table border=\"1\" class=\"dataframe\">\n",
              "  <thead>\n",
              "    <tr style=\"text-align: right;\">\n",
              "      <th></th>\n",
              "      <th>MD</th>\n",
              "      <th>Phase</th>\n",
              "      <th>Amplitude</th>\n",
              "      <th>App.Polarity</th>\n",
              "      <th>DomFreq</th>\n",
              "      <th>Env</th>\n",
              "      <th>RmsAmp</th>\n",
              "      <th>Sweetness</th>\n",
              "      <th>Variance</th>\n",
              "      <th>Porosity</th>\n",
              "      <th>Porcluster</th>\n",
              "    </tr>\n",
              "  </thead>\n",
              "  <tbody>\n",
              "    <tr>\n",
              "      <th>7519</th>\n",
              "      <td>3790.0</td>\n",
              "      <td>103.4</td>\n",
              "      <td>-199.0</td>\n",
              "      <td>-0.2</td>\n",
              "      <td>0.0</td>\n",
              "      <td>839.6</td>\n",
              "      <td>361.0</td>\n",
              "      <td>839.6</td>\n",
              "      <td>0.3</td>\n",
              "      <td>0.0</td>\n",
              "      <td>NaN</td>\n",
              "    </tr>\n",
              "    <tr>\n",
              "      <th>7520</th>\n",
              "      <td>3790.5</td>\n",
              "      <td>103.9</td>\n",
              "      <td>-206.2</td>\n",
              "      <td>-0.2</td>\n",
              "      <td>0.0</td>\n",
              "      <td>836.0</td>\n",
              "      <td>359.2</td>\n",
              "      <td>836.0</td>\n",
              "      <td>0.3</td>\n",
              "      <td>0.0</td>\n",
              "      <td>NaN</td>\n",
              "    </tr>\n",
              "    <tr>\n",
              "      <th>7521</th>\n",
              "      <td>3791.0</td>\n",
              "      <td>104.5</td>\n",
              "      <td>-213.4</td>\n",
              "      <td>-0.1</td>\n",
              "      <td>0.0</td>\n",
              "      <td>832.5</td>\n",
              "      <td>357.3</td>\n",
              "      <td>832.5</td>\n",
              "      <td>0.3</td>\n",
              "      <td>0.0</td>\n",
              "      <td>NaN</td>\n",
              "    </tr>\n",
              "    <tr>\n",
              "      <th>7522</th>\n",
              "      <td>3791.5</td>\n",
              "      <td>105.1</td>\n",
              "      <td>-220.7</td>\n",
              "      <td>-0.1</td>\n",
              "      <td>0.0</td>\n",
              "      <td>829.1</td>\n",
              "      <td>355.5</td>\n",
              "      <td>829.1</td>\n",
              "      <td>0.3</td>\n",
              "      <td>0.0</td>\n",
              "      <td>NaN</td>\n",
              "    </tr>\n",
              "    <tr>\n",
              "      <th>7523</th>\n",
              "      <td>3792.0</td>\n",
              "      <td>105.6</td>\n",
              "      <td>-228.0</td>\n",
              "      <td>-0.1</td>\n",
              "      <td>0.0</td>\n",
              "      <td>825.9</td>\n",
              "      <td>353.6</td>\n",
              "      <td>825.9</td>\n",
              "      <td>0.3</td>\n",
              "      <td>0.0</td>\n",
              "      <td>NaN</td>\n",
              "    </tr>\n",
              "  </tbody>\n",
              "</table>\n",
              "</div>"
            ],
            "text/plain": [
              "         MD  Phase  Amplitude  ...  Variance  Porosity  Porcluster\n",
              "7519 3790.0  103.4     -199.0  ...       0.3       0.0         NaN\n",
              "7520 3790.5  103.9     -206.2  ...       0.3       0.0         NaN\n",
              "7521 3791.0  104.5     -213.4  ...       0.3       0.0         NaN\n",
              "7522 3791.5  105.1     -220.7  ...       0.3       0.0         NaN\n",
              "7523 3792.0  105.6     -228.0  ...       0.3       0.0         NaN\n",
              "\n",
              "[5 rows x 11 columns]"
            ]
          },
          "metadata": {
            "tags": []
          },
          "execution_count": 8
        }
      ]
    },
    {
      "cell_type": "code",
      "metadata": {
        "id": "m49D3w2xi8DZ",
        "colab_type": "code",
        "colab": {
          "base_uri": "https://localhost:8080/",
          "height": 1000
        },
        "outputId": "a14fd375-7332-4903-b3de-09604c239f5a"
      },
      "source": [
        "#@title Display information about the data file \n",
        "display(df.head())\n",
        "display(df.info())\n",
        "display(df.tail())\n",
        "display(df.describe())\n",
        "display(df.columns)\n",
        "display(df.shape)"
      ],
      "execution_count": null,
      "outputs": [
        {
          "output_type": "display_data",
          "data": {
            "text/html": [
              "<div>\n",
              "<style scoped>\n",
              "    .dataframe tbody tr th:only-of-type {\n",
              "        vertical-align: middle;\n",
              "    }\n",
              "\n",
              "    .dataframe tbody tr th {\n",
              "        vertical-align: top;\n",
              "    }\n",
              "\n",
              "    .dataframe thead th {\n",
              "        text-align: right;\n",
              "    }\n",
              "</style>\n",
              "<table border=\"1\" class=\"dataframe\">\n",
              "  <thead>\n",
              "    <tr style=\"text-align: right;\">\n",
              "      <th></th>\n",
              "      <th>MD</th>\n",
              "      <th>Phase</th>\n",
              "      <th>Amplitude</th>\n",
              "      <th>App.Polarity</th>\n",
              "      <th>DomFreq</th>\n",
              "      <th>Env</th>\n",
              "      <th>RmsAmp</th>\n",
              "      <th>Sweetness</th>\n",
              "      <th>Variance</th>\n",
              "      <th>Porosity</th>\n",
              "      <th>Porcluster</th>\n",
              "    </tr>\n",
              "  </thead>\n",
              "  <tbody>\n",
              "    <tr>\n",
              "      <th>0</th>\n",
              "      <td>30.0</td>\n",
              "      <td>180.0</td>\n",
              "      <td>0.0</td>\n",
              "      <td>0.0</td>\n",
              "      <td>0.0</td>\n",
              "      <td>0.0</td>\n",
              "      <td>310.9</td>\n",
              "      <td>0.0</td>\n",
              "      <td>0.1</td>\n",
              "      <td>0.0</td>\n",
              "      <td>NaN</td>\n",
              "    </tr>\n",
              "    <tr>\n",
              "      <th>1</th>\n",
              "      <td>30.5</td>\n",
              "      <td>180.0</td>\n",
              "      <td>0.0</td>\n",
              "      <td>0.0</td>\n",
              "      <td>0.0</td>\n",
              "      <td>0.0</td>\n",
              "      <td>310.9</td>\n",
              "      <td>0.0</td>\n",
              "      <td>0.1</td>\n",
              "      <td>0.0</td>\n",
              "      <td>NaN</td>\n",
              "    </tr>\n",
              "    <tr>\n",
              "      <th>2</th>\n",
              "      <td>31.0</td>\n",
              "      <td>180.0</td>\n",
              "      <td>0.0</td>\n",
              "      <td>0.0</td>\n",
              "      <td>0.0</td>\n",
              "      <td>0.0</td>\n",
              "      <td>310.9</td>\n",
              "      <td>0.0</td>\n",
              "      <td>0.1</td>\n",
              "      <td>0.0</td>\n",
              "      <td>NaN</td>\n",
              "    </tr>\n",
              "    <tr>\n",
              "      <th>3</th>\n",
              "      <td>31.5</td>\n",
              "      <td>180.0</td>\n",
              "      <td>0.0</td>\n",
              "      <td>0.0</td>\n",
              "      <td>0.0</td>\n",
              "      <td>0.0</td>\n",
              "      <td>310.9</td>\n",
              "      <td>0.0</td>\n",
              "      <td>0.1</td>\n",
              "      <td>0.0</td>\n",
              "      <td>NaN</td>\n",
              "    </tr>\n",
              "    <tr>\n",
              "      <th>4</th>\n",
              "      <td>32.0</td>\n",
              "      <td>168.5</td>\n",
              "      <td>31.5</td>\n",
              "      <td>0.0</td>\n",
              "      <td>0.0</td>\n",
              "      <td>32.1</td>\n",
              "      <td>310.4</td>\n",
              "      <td>32.1</td>\n",
              "      <td>0.1</td>\n",
              "      <td>0.0</td>\n",
              "      <td>NaN</td>\n",
              "    </tr>\n",
              "  </tbody>\n",
              "</table>\n",
              "</div>"
            ],
            "text/plain": [
              "    MD  Phase  Amplitude  ...  Variance  Porosity  Porcluster\n",
              "0 30.0  180.0        0.0  ...       0.1       0.0         NaN\n",
              "1 30.5  180.0        0.0  ...       0.1       0.0         NaN\n",
              "2 31.0  180.0        0.0  ...       0.1       0.0         NaN\n",
              "3 31.5  180.0        0.0  ...       0.1       0.0         NaN\n",
              "4 32.0  168.5       31.5  ...       0.1       0.0         NaN\n",
              "\n",
              "[5 rows x 11 columns]"
            ]
          },
          "metadata": {
            "tags": []
          }
        },
        {
          "output_type": "stream",
          "text": [
            "<class 'pandas.core.frame.DataFrame'>\n",
            "RangeIndex: 7524 entries, 0 to 7523\n",
            "Data columns (total 11 columns):\n",
            " #   Column        Non-Null Count  Dtype  \n",
            "---  ------        --------------  -----  \n",
            " 0   MD            7524 non-null   float64\n",
            " 1   Phase         7524 non-null   float64\n",
            " 2   Amplitude     7524 non-null   float64\n",
            " 3   App.Polarity  7524 non-null   float64\n",
            " 4   DomFreq       7524 non-null   float64\n",
            " 5   Env           7524 non-null   float64\n",
            " 6   RmsAmp        7524 non-null   float64\n",
            " 7   Sweetness     7524 non-null   float64\n",
            " 8   Variance      7524 non-null   float64\n",
            " 9   Porosity      7524 non-null   float64\n",
            " 10  Porcluster    3537 non-null   object \n",
            "dtypes: float64(10), object(1)\n",
            "memory usage: 646.7+ KB\n"
          ],
          "name": "stdout"
        },
        {
          "output_type": "display_data",
          "data": {
            "text/plain": [
              "None"
            ]
          },
          "metadata": {
            "tags": []
          }
        },
        {
          "output_type": "display_data",
          "data": {
            "text/html": [
              "<div>\n",
              "<style scoped>\n",
              "    .dataframe tbody tr th:only-of-type {\n",
              "        vertical-align: middle;\n",
              "    }\n",
              "\n",
              "    .dataframe tbody tr th {\n",
              "        vertical-align: top;\n",
              "    }\n",
              "\n",
              "    .dataframe thead th {\n",
              "        text-align: right;\n",
              "    }\n",
              "</style>\n",
              "<table border=\"1\" class=\"dataframe\">\n",
              "  <thead>\n",
              "    <tr style=\"text-align: right;\">\n",
              "      <th></th>\n",
              "      <th>MD</th>\n",
              "      <th>Phase</th>\n",
              "      <th>Amplitude</th>\n",
              "      <th>App.Polarity</th>\n",
              "      <th>DomFreq</th>\n",
              "      <th>Env</th>\n",
              "      <th>RmsAmp</th>\n",
              "      <th>Sweetness</th>\n",
              "      <th>Variance</th>\n",
              "      <th>Porosity</th>\n",
              "      <th>Porcluster</th>\n",
              "    </tr>\n",
              "  </thead>\n",
              "  <tbody>\n",
              "    <tr>\n",
              "      <th>7519</th>\n",
              "      <td>3790.0</td>\n",
              "      <td>103.4</td>\n",
              "      <td>-199.0</td>\n",
              "      <td>-0.2</td>\n",
              "      <td>0.0</td>\n",
              "      <td>839.6</td>\n",
              "      <td>361.0</td>\n",
              "      <td>839.6</td>\n",
              "      <td>0.3</td>\n",
              "      <td>0.0</td>\n",
              "      <td>NaN</td>\n",
              "    </tr>\n",
              "    <tr>\n",
              "      <th>7520</th>\n",
              "      <td>3790.5</td>\n",
              "      <td>103.9</td>\n",
              "      <td>-206.2</td>\n",
              "      <td>-0.2</td>\n",
              "      <td>0.0</td>\n",
              "      <td>836.0</td>\n",
              "      <td>359.2</td>\n",
              "      <td>836.0</td>\n",
              "      <td>0.3</td>\n",
              "      <td>0.0</td>\n",
              "      <td>NaN</td>\n",
              "    </tr>\n",
              "    <tr>\n",
              "      <th>7521</th>\n",
              "      <td>3791.0</td>\n",
              "      <td>104.5</td>\n",
              "      <td>-213.4</td>\n",
              "      <td>-0.1</td>\n",
              "      <td>0.0</td>\n",
              "      <td>832.5</td>\n",
              "      <td>357.3</td>\n",
              "      <td>832.5</td>\n",
              "      <td>0.3</td>\n",
              "      <td>0.0</td>\n",
              "      <td>NaN</td>\n",
              "    </tr>\n",
              "    <tr>\n",
              "      <th>7522</th>\n",
              "      <td>3791.5</td>\n",
              "      <td>105.1</td>\n",
              "      <td>-220.7</td>\n",
              "      <td>-0.1</td>\n",
              "      <td>0.0</td>\n",
              "      <td>829.1</td>\n",
              "      <td>355.5</td>\n",
              "      <td>829.1</td>\n",
              "      <td>0.3</td>\n",
              "      <td>0.0</td>\n",
              "      <td>NaN</td>\n",
              "    </tr>\n",
              "    <tr>\n",
              "      <th>7523</th>\n",
              "      <td>3792.0</td>\n",
              "      <td>105.6</td>\n",
              "      <td>-228.0</td>\n",
              "      <td>-0.1</td>\n",
              "      <td>0.0</td>\n",
              "      <td>825.9</td>\n",
              "      <td>353.6</td>\n",
              "      <td>825.9</td>\n",
              "      <td>0.3</td>\n",
              "      <td>0.0</td>\n",
              "      <td>NaN</td>\n",
              "    </tr>\n",
              "  </tbody>\n",
              "</table>\n",
              "</div>"
            ],
            "text/plain": [
              "         MD  Phase  Amplitude  ...  Variance  Porosity  Porcluster\n",
              "7519 3790.0  103.4     -199.0  ...       0.3       0.0         NaN\n",
              "7520 3790.5  103.9     -206.2  ...       0.3       0.0         NaN\n",
              "7521 3791.0  104.5     -213.4  ...       0.3       0.0         NaN\n",
              "7522 3791.5  105.1     -220.7  ...       0.3       0.0         NaN\n",
              "7523 3792.0  105.6     -228.0  ...       0.3       0.0         NaN\n",
              "\n",
              "[5 rows x 11 columns]"
            ]
          },
          "metadata": {
            "tags": []
          }
        },
        {
          "output_type": "display_data",
          "data": {
            "text/html": [
              "<div>\n",
              "<style scoped>\n",
              "    .dataframe tbody tr th:only-of-type {\n",
              "        vertical-align: middle;\n",
              "    }\n",
              "\n",
              "    .dataframe tbody tr th {\n",
              "        vertical-align: top;\n",
              "    }\n",
              "\n",
              "    .dataframe thead th {\n",
              "        text-align: right;\n",
              "    }\n",
              "</style>\n",
              "<table border=\"1\" class=\"dataframe\">\n",
              "  <thead>\n",
              "    <tr style=\"text-align: right;\">\n",
              "      <th></th>\n",
              "      <th>MD</th>\n",
              "      <th>Phase</th>\n",
              "      <th>Amplitude</th>\n",
              "      <th>App.Polarity</th>\n",
              "      <th>DomFreq</th>\n",
              "      <th>Env</th>\n",
              "      <th>RmsAmp</th>\n",
              "      <th>Sweetness</th>\n",
              "      <th>Variance</th>\n",
              "      <th>Porosity</th>\n",
              "    </tr>\n",
              "  </thead>\n",
              "  <tbody>\n",
              "    <tr>\n",
              "      <th>count</th>\n",
              "      <td>7524.0</td>\n",
              "      <td>7524.0</td>\n",
              "      <td>7524.0</td>\n",
              "      <td>7524.0</td>\n",
              "      <td>7524.0</td>\n",
              "      <td>7524.0</td>\n",
              "      <td>7524.0</td>\n",
              "      <td>7524.0</td>\n",
              "      <td>7524.0</td>\n",
              "      <td>7524.0</td>\n",
              "    </tr>\n",
              "    <tr>\n",
              "      <th>mean</th>\n",
              "      <td>1911.0</td>\n",
              "      <td>-1.6</td>\n",
              "      <td>3.8</td>\n",
              "      <td>-0.0</td>\n",
              "      <td>0.0</td>\n",
              "      <td>2436.1</td>\n",
              "      <td>1790.5</td>\n",
              "      <td>2436.1</td>\n",
              "      <td>0.2</td>\n",
              "      <td>1.4</td>\n",
              "    </tr>\n",
              "    <tr>\n",
              "      <th>std</th>\n",
              "      <td>1086.2</td>\n",
              "      <td>92.2</td>\n",
              "      <td>2242.3</td>\n",
              "      <td>0.2</td>\n",
              "      <td>0.0</td>\n",
              "      <td>2130.5</td>\n",
              "      <td>1463.9</td>\n",
              "      <td>2130.5</td>\n",
              "      <td>0.1</td>\n",
              "      <td>3.9</td>\n",
              "    </tr>\n",
              "    <tr>\n",
              "      <th>min</th>\n",
              "      <td>30.0</td>\n",
              "      <td>-178.2</td>\n",
              "      <td>-9133.5</td>\n",
              "      <td>-1.0</td>\n",
              "      <td>0.0</td>\n",
              "      <td>0.0</td>\n",
              "      <td>113.5</td>\n",
              "      <td>0.0</td>\n",
              "      <td>0.0</td>\n",
              "      <td>0.0</td>\n",
              "    </tr>\n",
              "    <tr>\n",
              "      <th>25%</th>\n",
              "      <td>970.5</td>\n",
              "      <td>-81.1</td>\n",
              "      <td>-941.6</td>\n",
              "      <td>0.0</td>\n",
              "      <td>0.0</td>\n",
              "      <td>1045.0</td>\n",
              "      <td>798.8</td>\n",
              "      <td>1045.0</td>\n",
              "      <td>0.1</td>\n",
              "      <td>0.0</td>\n",
              "    </tr>\n",
              "    <tr>\n",
              "      <th>50%</th>\n",
              "      <td>1911.0</td>\n",
              "      <td>-0.8</td>\n",
              "      <td>-71.5</td>\n",
              "      <td>0.0</td>\n",
              "      <td>0.0</td>\n",
              "      <td>1796.1</td>\n",
              "      <td>1294.2</td>\n",
              "      <td>1796.1</td>\n",
              "      <td>0.2</td>\n",
              "      <td>0.0</td>\n",
              "    </tr>\n",
              "    <tr>\n",
              "      <th>75%</th>\n",
              "      <td>2851.5</td>\n",
              "      <td>78.1</td>\n",
              "      <td>1037.2</td>\n",
              "      <td>0.0</td>\n",
              "      <td>0.0</td>\n",
              "      <td>2986.7</td>\n",
              "      <td>2247.4</td>\n",
              "      <td>2986.7</td>\n",
              "      <td>0.2</td>\n",
              "      <td>0.0</td>\n",
              "    </tr>\n",
              "    <tr>\n",
              "      <th>max</th>\n",
              "      <td>3792.0</td>\n",
              "      <td>180.0</td>\n",
              "      <td>12641.0</td>\n",
              "      <td>0.9</td>\n",
              "      <td>0.0</td>\n",
              "      <td>12832.6</td>\n",
              "      <td>8769.5</td>\n",
              "      <td>12832.6</td>\n",
              "      <td>0.9</td>\n",
              "      <td>27.9</td>\n",
              "    </tr>\n",
              "  </tbody>\n",
              "</table>\n",
              "</div>"
            ],
            "text/plain": [
              "          MD  Phase  Amplitude  ...  Sweetness  Variance  Porosity\n",
              "count 7524.0 7524.0     7524.0  ...     7524.0    7524.0    7524.0\n",
              "mean  1911.0   -1.6        3.8  ...     2436.1       0.2       1.4\n",
              "std   1086.2   92.2     2242.3  ...     2130.5       0.1       3.9\n",
              "min     30.0 -178.2    -9133.5  ...        0.0       0.0       0.0\n",
              "25%    970.5  -81.1     -941.6  ...     1045.0       0.1       0.0\n",
              "50%   1911.0   -0.8      -71.5  ...     1796.1       0.2       0.0\n",
              "75%   2851.5   78.1     1037.2  ...     2986.7       0.2       0.0\n",
              "max   3792.0  180.0    12641.0  ...    12832.6       0.9      27.9\n",
              "\n",
              "[8 rows x 10 columns]"
            ]
          },
          "metadata": {
            "tags": []
          }
        },
        {
          "output_type": "display_data",
          "data": {
            "text/plain": [
              "Index(['MD', 'Phase', 'Amplitude', 'App.Polarity', 'DomFreq', 'Env', 'RmsAmp',\n",
              "       'Sweetness', 'Variance', 'Porosity', 'Porcluster'],\n",
              "      dtype='object')"
            ]
          },
          "metadata": {
            "tags": []
          }
        },
        {
          "output_type": "display_data",
          "data": {
            "text/plain": [
              "(7524, 11)"
            ]
          },
          "metadata": {
            "tags": []
          }
        }
      ]
    },
    {
      "cell_type": "code",
      "metadata": {
        "id": "GArDJ4Xki8Gc",
        "colab_type": "code",
        "colab": {
          "base_uri": "https://localhost:8080/",
          "height": 297
        },
        "outputId": "f2b018a6-9565-4316-bbc2-d5aa334d9a3d"
      },
      "source": [
        "sns.distplot(df['Porosity'])"
      ],
      "execution_count": null,
      "outputs": [
        {
          "output_type": "execute_result",
          "data": {
            "text/plain": [
              "<matplotlib.axes._subplots.AxesSubplot at 0x7f6dfca952b0>"
            ]
          },
          "metadata": {
            "tags": []
          },
          "execution_count": 88
        },
        {
          "output_type": "display_data",
          "data": {
            "image/png": "[encoded data removed]",
            "text/plain": [
              "<Figure size 432x288 with 1 Axes>"
            ]
          },
          "metadata": {
            "tags": [],
            "needs_background": "light"
          }
        }
      ]
    },
    {
      "cell_type": "code",
      "metadata": {
        "id": "BVAsMDvki8Iq",
        "colab_type": "code",
        "colab": {
          "base_uri": "https://localhost:8080/",
          "height": 297
        },
        "outputId": "3286aace-d43c-4c04-f0a5-20a6c8abff65"
      },
      "source": [
        "sns.distplot(df['Sweetness'])\n",
        "sns.distplot(df['Amplitude'])\n",
        "sns.distplot(df['Env'])"
      ],
      "execution_count": null,
      "outputs": [
        {
          "output_type": "execute_result",
          "data": {
            "text/plain": [
              "<matplotlib.axes._subplots.AxesSubplot at 0x7f6e0b437ef0>"
            ]
          },
          "metadata": {
            "tags": []
          },
          "execution_count": 29
        },
        {
          "output_type": "display_data",
          "data": {
            "image/png": "[encoded data removed]",
            "text/plain": [
              "<Figure size 432x288 with 1 Axes>"
            ]
          },
          "metadata": {
            "tags": [],
            "needs_background": "light"
          }
        }
      ]
    },
    {
      "cell_type": "code",
      "metadata": {
        "id": "6DxeNx1Di8Kx",
        "colab_type": "code",
        "colab": {
          "base_uri": "https://localhost:8080/",
          "height": 337
        },
        "outputId": "ccf60031-448d-40cc-92d2-4804e908dbab"
      },
      "source": [
        "#@title Plot correlation matrix to show relations between features\n",
        "sns.heatmap(df.corr(),annot=True)"
      ],
      "execution_count": null,
      "outputs": [
        {
          "output_type": "execute_result",
          "data": {
            "text/plain": [
              "<matplotlib.axes._subplots.AxesSubplot at 0x7f6e0b44d0f0>"
            ]
          },
          "metadata": {
            "tags": []
          },
          "execution_count": 30
        },
        {
          "output_type": "display_data",
          "data": {
            "image/png": "[encoded data removed]",
            "text/plain": [
              "<Figure size 432x288 with 2 Axes>"
            ]
          },
          "metadata": {
            "tags": [],
            "needs_background": "light"
          }
        }
      ]
    },
    {
      "cell_type": "code",
      "metadata": {
        "id": "UJLc_Q6ii8NK",
        "colab_type": "code",
        "colab": {
          "base_uri": "https://localhost:8080/",
          "height": 297
        },
        "outputId": "476e5574-5f22-4887-a207-6c2a36e4f062"
      },
      "source": [
        "sns.distplot(df['Env'])\n",
        "sns.distplot(df['RmsAmp'])"
      ],
      "execution_count": null,
      "outputs": [
        {
          "output_type": "execute_result",
          "data": {
            "text/plain": [
              "<matplotlib.axes._subplots.AxesSubplot at 0x7f6e0b7caeb8>"
            ]
          },
          "metadata": {
            "tags": []
          },
          "execution_count": 31
        },
        {
          "output_type": "display_data",
          "data": {
            "image/png": "[encoded data removed]",
            "text/plain": [
              "<Figure size 432x288 with 1 Axes>"
            ]
          },
          "metadata": {
            "tags": [],
            "needs_background": "light"
          }
        }
      ]
    },
    {
      "cell_type": "code",
      "metadata": {
        "id": "eIBcXAG3i8PL",
        "colab_type": "code",
        "colab": {
          "base_uri": "https://localhost:8080/",
          "height": 363
        },
        "outputId": "c3904eb9-938d-4517-9a27-6c47b527e9a4"
      },
      "source": [
        "df.corr()"
      ],
      "execution_count": null,
      "outputs": [
        {
          "output_type": "execute_result",
          "data": {
            "text/html": [
              "<div>\n",
              "<style scoped>\n",
              "    .dataframe tbody tr th:only-of-type {\n",
              "        vertical-align: middle;\n",
              "    }\n",
              "\n",
              "    .dataframe tbody tr th {\n",
              "        vertical-align: top;\n",
              "    }\n",
              "\n",
              "    .dataframe thead th {\n",
              "        text-align: right;\n",
              "    }\n",
              "</style>\n",
              "<table border=\"1\" class=\"dataframe\">\n",
              "  <thead>\n",
              "    <tr style=\"text-align: right;\">\n",
              "      <th></th>\n",
              "      <th>MD</th>\n",
              "      <th>Phase</th>\n",
              "      <th>Amplitude</th>\n",
              "      <th>App.Polarity</th>\n",
              "      <th>DomFreq</th>\n",
              "      <th>Env</th>\n",
              "      <th>RmsAmp</th>\n",
              "      <th>Sweetness</th>\n",
              "      <th>Variance</th>\n",
              "      <th>Porosity</th>\n",
              "    </tr>\n",
              "  </thead>\n",
              "  <tbody>\n",
              "    <tr>\n",
              "      <th>MD</th>\n",
              "      <td>1.0</td>\n",
              "      <td>0.0</td>\n",
              "      <td>0.0</td>\n",
              "      <td>-0.0</td>\n",
              "      <td>-0.1</td>\n",
              "      <td>0.0</td>\n",
              "      <td>-0.0</td>\n",
              "      <td>0.0</td>\n",
              "      <td>0.1</td>\n",
              "      <td>0.4</td>\n",
              "    </tr>\n",
              "    <tr>\n",
              "      <th>Phase</th>\n",
              "      <td>0.0</td>\n",
              "      <td>1.0</td>\n",
              "      <td>0.0</td>\n",
              "      <td>-0.0</td>\n",
              "      <td>-0.0</td>\n",
              "      <td>-0.0</td>\n",
              "      <td>-0.0</td>\n",
              "      <td>-0.0</td>\n",
              "      <td>-0.0</td>\n",
              "      <td>0.0</td>\n",
              "    </tr>\n",
              "    <tr>\n",
              "      <th>Amplitude</th>\n",
              "      <td>0.0</td>\n",
              "      <td>0.0</td>\n",
              "      <td>1.0</td>\n",
              "      <td>0.4</td>\n",
              "      <td>-0.0</td>\n",
              "      <td>-0.0</td>\n",
              "      <td>0.0</td>\n",
              "      <td>-0.0</td>\n",
              "      <td>-0.1</td>\n",
              "      <td>0.0</td>\n",
              "    </tr>\n",
              "    <tr>\n",
              "      <th>App.Polarity</th>\n",
              "      <td>-0.0</td>\n",
              "      <td>-0.0</td>\n",
              "      <td>0.4</td>\n",
              "      <td>1.0</td>\n",
              "      <td>0.0</td>\n",
              "      <td>0.0</td>\n",
              "      <td>0.0</td>\n",
              "      <td>0.0</td>\n",
              "      <td>-0.0</td>\n",
              "      <td>0.0</td>\n",
              "    </tr>\n",
              "    <tr>\n",
              "      <th>DomFreq</th>\n",
              "      <td>-0.1</td>\n",
              "      <td>-0.0</td>\n",
              "      <td>-0.0</td>\n",
              "      <td>0.0</td>\n",
              "      <td>1.0</td>\n",
              "      <td>0.1</td>\n",
              "      <td>0.2</td>\n",
              "      <td>0.1</td>\n",
              "      <td>0.2</td>\n",
              "      <td>-0.1</td>\n",
              "    </tr>\n",
              "    <tr>\n",
              "      <th>Env</th>\n",
              "      <td>0.0</td>\n",
              "      <td>-0.0</td>\n",
              "      <td>-0.0</td>\n",
              "      <td>0.0</td>\n",
              "      <td>0.1</td>\n",
              "      <td>1.0</td>\n",
              "      <td>1.0</td>\n",
              "      <td>1.0</td>\n",
              "      <td>-0.3</td>\n",
              "      <td>0.1</td>\n",
              "    </tr>\n",
              "    <tr>\n",
              "      <th>RmsAmp</th>\n",
              "      <td>-0.0</td>\n",
              "      <td>-0.0</td>\n",
              "      <td>0.0</td>\n",
              "      <td>0.0</td>\n",
              "      <td>0.2</td>\n",
              "      <td>1.0</td>\n",
              "      <td>1.0</td>\n",
              "      <td>1.0</td>\n",
              "      <td>-0.4</td>\n",
              "      <td>0.1</td>\n",
              "    </tr>\n",
              "    <tr>\n",
              "      <th>Sweetness</th>\n",
              "      <td>0.0</td>\n",
              "      <td>-0.0</td>\n",
              "      <td>-0.0</td>\n",
              "      <td>0.0</td>\n",
              "      <td>0.1</td>\n",
              "      <td>1.0</td>\n",
              "      <td>1.0</td>\n",
              "      <td>1.0</td>\n",
              "      <td>-0.3</td>\n",
              "      <td>0.1</td>\n",
              "    </tr>\n",
              "    <tr>\n",
              "      <th>Variance</th>\n",
              "      <td>0.1</td>\n",
              "      <td>-0.0</td>\n",
              "      <td>-0.1</td>\n",
              "      <td>-0.0</td>\n",
              "      <td>0.2</td>\n",
              "      <td>-0.3</td>\n",
              "      <td>-0.4</td>\n",
              "      <td>-0.3</td>\n",
              "      <td>1.0</td>\n",
              "      <td>0.1</td>\n",
              "    </tr>\n",
              "    <tr>\n",
              "      <th>Porosity</th>\n",
              "      <td>0.4</td>\n",
              "      <td>0.0</td>\n",
              "      <td>0.0</td>\n",
              "      <td>0.0</td>\n",
              "      <td>-0.1</td>\n",
              "      <td>0.1</td>\n",
              "      <td>0.1</td>\n",
              "      <td>0.1</td>\n",
              "      <td>0.1</td>\n",
              "      <td>1.0</td>\n",
              "    </tr>\n",
              "  </tbody>\n",
              "</table>\n",
              "</div>"
            ],
            "text/plain": [
              "               MD  Phase  Amplitude  ...  Sweetness  Variance  Porosity\n",
              "MD            1.0    0.0        0.0  ...        0.0       0.1       0.4\n",
              "Phase         0.0    1.0        0.0  ...       -0.0      -0.0       0.0\n",
              "Amplitude     0.0    0.0        1.0  ...       -0.0      -0.1       0.0\n",
              "App.Polarity -0.0   -0.0        0.4  ...        0.0      -0.0       0.0\n",
              "DomFreq      -0.1   -0.0       -0.0  ...        0.1       0.2      -0.1\n",
              "Env           0.0   -0.0       -0.0  ...        1.0      -0.3       0.1\n",
              "RmsAmp       -0.0   -0.0        0.0  ...        1.0      -0.4       0.1\n",
              "Sweetness     0.0   -0.0       -0.0  ...        1.0      -0.3       0.1\n",
              "Variance      0.1   -0.0       -0.1  ...       -0.3       1.0       0.1\n",
              "Porosity      0.4    0.0        0.0  ...        0.1       0.1       1.0\n",
              "\n",
              "[10 rows x 10 columns]"
            ]
          },
          "metadata": {
            "tags": []
          },
          "execution_count": 32
        }
      ]
    },
    {
      "cell_type": "code",
      "metadata": {
        "id": "uSJdYhmVi8Rf",
        "colab_type": "code",
        "colab": {}
      },
      "source": [
        "Xdf = df[['MD', 'Phase', 'Amplitude', 'App.Polarity', 'DomFreq', 'Env',\n",
        "       'Sweetness', 'Variance']]\n",
        "y = df['Porosity']       "
      ],
      "execution_count": null,
      "outputs": []
    },
    {
      "cell_type": "code",
      "metadata": {
        "id": "bg0erX60i8To",
        "colab_type": "code",
        "colab": {
          "base_uri": "https://localhost:8080/",
          "height": 53
        },
        "outputId": "5aa5ebb4-72d6-403e-e5a2-62933bd77923"
      },
      "source": [
        "print(\"Y shapes of: \",y.shape)\n",
        "print(\"Xdf shapes of: \",Xdf.shape)"
      ],
      "execution_count": null,
      "outputs": [
        {
          "output_type": "stream",
          "text": [
            "Y shapes of:  (7524,)\n",
            "Xdf shapes of:  (7524, 8)\n"
          ],
          "name": "stdout"
        }
      ]
    },
    {
      "cell_type": "code",
      "metadata": {
        "id": "JsNYlnphi8V7",
        "colab_type": "code",
        "colab": {}
      },
      "source": [
        "#@title Train test split 25%\n",
        "X_train, X_test, y_train, y_test = train_test_split(Xdf, y, test_size=0.25, random_state=101)"
      ],
      "execution_count": null,
      "outputs": []
    },
    {
      "cell_type": "code",
      "metadata": {
        "id": "_NJNImyti8X2",
        "colab_type": "code",
        "colab": {
          "base_uri": "https://localhost:8080/",
          "height": 35
        },
        "outputId": "fffe3c22-1efa-4c02-bd47-6ddd9a5dc703"
      },
      "source": [
        "#@title Linear Regression model training\n",
        "lm = LinearRegression()\n",
        "train_sizes, train_scores, test_scores = learning_curve(estimator=lm,\n",
        "                                                        X=X_train,\n",
        "                                                        y=y_train,\n",
        "                                                        scoring = 'neg_mean_squared_error',\n",
        "                                                       cv=3)\n",
        "lm.fit(X_train,y_train)"
      ],
      "execution_count": null,
      "outputs": [
        {
          "output_type": "execute_result",
          "data": {
            "text/plain": [
              "LinearRegression(copy_X=True, fit_intercept=True, n_jobs=None, normalize=False)"
            ]
          },
          "metadata": {
            "tags": []
          },
          "execution_count": 55
        }
      ]
    },
    {
      "cell_type": "code",
      "metadata": {
        "id": "F7P7piP6i8aK",
        "colab_type": "code",
        "colab": {
          "base_uri": "https://localhost:8080/",
          "height": 35
        },
        "outputId": "1a00621c-ff67-40bc-cf3e-f441eb125b92"
      },
      "source": [
        "#@title Model evaluation\n",
        "predictions = lm.predict(X_test)\n",
        "error=np.sqrt(mean_squared_error(y_test,predictions)) # rmse\n",
        "print(\"RMSE : \",error)"
      ],
      "execution_count": null,
      "outputs": [
        {
          "output_type": "stream",
          "text": [
            "RMSE :  3.564581562808309\n"
          ],
          "name": "stdout"
        }
      ]
    },
    {
      "cell_type": "code",
      "metadata": {
        "id": "0SkM33bOvJdu",
        "colab_type": "code",
        "colab": {
          "base_uri": "https://localhost:8080/",
          "height": 283
        },
        "outputId": "c59da553-b658-456a-b355-00495538aac5"
      },
      "source": [
        "sns.distplot(predictions)"
      ],
      "execution_count": null,
      "outputs": [
        {
          "output_type": "execute_result",
          "data": {
            "text/plain": [
              "<matplotlib.axes._subplots.AxesSubplot at 0x7f6dfca7b470>"
            ]
          },
          "metadata": {
            "tags": []
          },
          "execution_count": 90
        },
        {
          "output_type": "display_data",
          "data": {
            "image/png": "[encoded data removed]",
            "text/plain": [
              "<Figure size 432x288 with 1 Axes>"
            ]
          },
          "metadata": {
            "tags": [],
            "needs_background": "light"
          }
        }
      ]
    },
    {
      "cell_type": "code",
      "metadata": {
        "id": "1UH3Xreli8cn",
        "colab_type": "code",
        "colab": {
          "base_uri": "https://localhost:8080/",
          "height": 181
        },
        "outputId": "fa9b013b-bad7-43f6-ed26-6ccc49748ec2"
      },
      "source": [
        "#@title Print model coeffiecents \n",
        "print(\"intercept : \",lm.intercept_)\n",
        "for idx, col_name in enumerate(X_train.columns):\n",
        "    print(\"The coefficient for {} is {}\".format(col_name, lm.coef_[idx]))"
      ],
      "execution_count": null,
      "outputs": [
        {
          "output_type": "stream",
          "text": [
            "intercept :  -1.7933857130324669\n",
            "The coefficient for MD is 0.0014163442176339707\n",
            "The coefficient for Phase is 0.0008819779462874849\n",
            "The coefficient for Amplitude is 1.9548690356595982e-06\n",
            "The coefficient for App.Polarity is 0.8314534834576162\n",
            "The coefficient for DomFreq is -59.78376508702997\n",
            "The coefficient for Env is 1696860005.8721988\n",
            "The coefficient for Sweetness is -1696860005.8719242\n",
            "The coefficient for Variance is 2.9654479240906446\n"
          ],
          "name": "stdout"
        }
      ]
    },
    {
      "cell_type": "code",
      "metadata": {
        "id": "jR1XaXRAi8ed",
        "colab_type": "code",
        "colab": {
          "base_uri": "https://localhost:8080/",
          "height": 297
        },
        "outputId": "aed9d1b6-b756-4559-8eb7-0e6df323e081"
      },
      "source": [
        "# plotting learning curve\n",
        "# Create means and standard deviations of training set scores\n",
        "train_mean = -np.mean(train_scores, axis=1)\n",
        "train_std = np.std(train_scores, axis=1)\n",
        "\n",
        "# Create means and standard deviations of test set scores\n",
        "test_mean = -np.mean(test_scores, axis=1)\n",
        "test_std = np.std(test_scores, axis=1)\n",
        "\n",
        "# Draw lines\n",
        "plt.plot(train_sizes, train_mean, '--', color=\"#111111\",  label=\"Training score\")\n",
        "plt.plot(train_sizes, test_mean, color=\"#ff0000\", label=\"Cross-validation score\")\n",
        "\n",
        "# Draw bands\n",
        "plt.fill_between(train_sizes, train_mean - train_std, train_mean + train_std, color=\"#DDDDDD\", alpha = 0.9)\n",
        "plt.fill_between(train_sizes, test_mean - test_std, test_mean + test_std, color=\"#ffd1f7\" , alpha = 0.5)\n",
        "\n",
        "# Create plot\n",
        "plt.title(\"Learning Curve\")\n",
        "plt.xlabel(\"Training Set Size\"), plt.ylabel(\"Accuracy Score\"), plt.legend(loc=\"best\")\n",
        "plt.tight_layout()\n",
        "plt.show()"
      ],
      "execution_count": null,
      "outputs": [
        {
          "output_type": "display_data",
          "data": {
            "image/png": "[encoded data removed]",
            "text/plain": [
              "<Figure size 432x288 with 1 Axes>"
            ]
          },
          "metadata": {
            "tags": [],
            "needs_background": "light"
          }
        }
      ]
    },
    {
      "cell_type": "code",
      "metadata": {
        "id": "sOA81bqXwFzD",
        "colab_type": "code",
        "colab": {
          "base_uri": "https://localhost:8080/",
          "height": 53
        },
        "outputId": "0dec8dd8-8944-46f0-cc8d-b6404bb450f1"
      },
      "source": [
        "print(\"predictions Dimensions : \", predictions.shape)\n",
        "print(\"y_test Dimensions: \", y_test.shape)"
      ],
      "execution_count": null,
      "outputs": [
        {
          "output_type": "stream",
          "text": [
            "predictions Dimensions :  (1881,)\n",
            "y_test Dimensions:  (1881,)\n"
          ],
          "name": "stdout"
        }
      ]
    },
    {
      "cell_type": "code",
      "metadata": {
        "id": "cFh2k2_CrH1l",
        "colab_type": "code",
        "colab": {
          "base_uri": "https://localhost:8080/",
          "height": 283
        },
        "outputId": "92d6a0d1-16a8-42ee-c503-f56b866ed30c"
      },
      "source": [
        "plt.scatter(predictions,y_test)\n",
        "#plt.plot(train_sizes, test_mean, color=\"#ff0000\", label=\"Cross-validation score\")"
      ],
      "execution_count": null,
      "outputs": [
        {
          "output_type": "execute_result",
          "data": {
            "text/plain": [
              "<matplotlib.collections.PathCollection at 0x7f6dfcad6978>"
            ]
          },
          "metadata": {
            "tags": []
          },
          "execution_count": 104
        },
        {
          "output_type": "display_data",
          "data": {
            "image/png": "[encoded data removed]",
            "text/plain": [
              "<Figure size 432x288 with 1 Axes>"
            ]
          },
          "metadata": {
            "tags": [],
            "needs_background": "light"
          }
        }
      ]
    },
    {
      "cell_type": "code",
      "metadata": {
        "id": "h-7KzIr-i8ga",
        "colab_type": "code",
        "colab": {
          "base_uri": "https://localhost:8080/",
          "height": 442
        },
        "outputId": "12bc76b0-faed-44ec-8d34-5366492ab728"
      },
      "source": [
        "# check model fitted lines against different features\n",
        "plt.figure(figsize=(10,7))\n",
        "\n",
        "plt.subplot(2, 2, 1)\n",
        "plt.scatter(df['Sweetness'],df['Porosity'])\n",
        "plt.plot(df['Sweetness'],'r')\n",
        "plt.xlabel('Sweetness')\n",
        "plt.ylabel('Porosity')\n",
        "\n",
        "plt.subplot(2, 2, 2)\n",
        "plt.scatter(df['Amplitude'],df['Porosity'])\n",
        "plt.plot(df['Amplitude'],'r')\n",
        "plt.xlabel('Amplitude')\n",
        "plt.ylabel('Porosity')\n",
        "\n",
        "plt.subplot(2, 2, 3)\n",
        "plt.scatter(df['Env'],df['Porosity'])\n",
        "plt.plot(df['Env'],'r')\n",
        "plt.xlabel('Env')\n",
        "plt.ylabel('Porosity')\n",
        "\n",
        "plt.show()\n",
        "\n",
        "# 'MD', 'Phase', 'Amplitude', 'App.Polarity', 'DomFreq', 'Env','Sweetness', 'Variance'"
      ],
      "execution_count": null,
      "outputs": [
        {
          "output_type": "display_data",
          "data": {
            "image/png": "[encoded data removed]",
            "text/plain": [
              "<Figure size 720x504 with 3 Axes>"
            ]
          },
          "metadata": {
            "tags": [],
            "needs_background": "light"
          }
        }
      ]
    }
  ]
}